{
 "cells": [
  {
   "cell_type": "code",
   "execution_count": 37,
   "metadata": {},
   "outputs": [],
   "source": [
    "import datetime\n",
    "import heapq\n",
    "import itertools"
   ]
  },
  {
   "cell_type": "code",
   "execution_count": 38,
   "metadata": {},
   "outputs": [],
   "source": [
    "TIME_FORMAT=\"%Y-%m-%d-%H%M\"\n",
    "ONE_DAY=86400\n",
    "ONE_HOUR=3600\n",
    "ONE_MINUTE=60"
   ]
  },
  {
   "cell_type": "code",
   "execution_count": 54,
   "metadata": {},
   "outputs": [],
   "source": [
    "def format_time(time):\n",
    "    if isinstance(time, datetime.datetime):\n",
    "        return time.strftime(TIME_FORMAT)\n",
    "    else:\n",
    "        print(\"Please pass a datetime object! I can't work under these conditions!!\")\n",
    "\n",
    "\n",
    "def format_period(period):\n",
    "    def format_plural(n, unit):\n",
    "        if n == 1:\n",
    "            return \"{} {}\".format(n, unit)\n",
    "        else:\n",
    "            return \"{} {}s\".format(n, unit)\n",
    "    return_str = \"\"\n",
    "    if period < 0:\n",
    "        return \"OVERDUE\"\n",
    "    elif period > ONE_DAY:\n",
    "        days = int(period/ONE_DAY)\n",
    "        hours = int((period%ONE_DAY)/ONE_HOUR)\n",
    "        return_str += format_plural(days, \"day\")\n",
    "        if hours > 0:\n",
    "            return_str += \", {}\".format(format_plural(hours, \"hour\"))\n",
    "        return return_str\n",
    "    else:\n",
    "        hours = int(period/ONE_HOUR)\n",
    "        minutes = int((period%ONE_HOUR)/ONE_MINUTE)\n",
    "        return_str += format_plural(hours, \"hour\")\n",
    "        if minutes > 0:\n",
    "            return_str += \", {}\".format(format_plural(minutes, \"minute\"))\n",
    "        return return_str"
   ]
  },
  {
   "cell_type": "code",
   "execution_count": 55,
   "metadata": {},
   "outputs": [],
   "source": [
    "class Task():\n",
    "    def __init__(self, name=\"Untitled-Task-{}\".format(datetime.datetime.today().strftime(TIME_FORMAT)), \n",
    "                period=86400, \n",
    "                last=datetime.datetime.now(),\n",
    "                comment=\"\",\n",
    "                category=\"\"):\n",
    "        self.name = name\n",
    "        self.period = period\n",
    "        self.history=[]\n",
    "        self.due =  last + datetime.timedelta(seconds=period)\n",
    "        self.comment = comment\n",
    "        self.category = category\n",
    "        print(self.name, self.period, self.due, self.comment, self.category)\n",
    "    \n",
    "    def check(self, ):\n",
    "        self.due = datetime.datetime.now() + datetime.timedelta(seconds=self.period)\n",
    "        self.history.append(datetime.datetime.now().strftime(TIME_FORMAT))\n",
    "    \n",
    "    def get_period(self,):\n",
    "        return self.period\n",
    "    \n",
    "    def print_period(self, ):\n",
    "        return format_period(self.get_period())\n",
    "\n",
    "    def set_period(self, new_period):\n",
    "        self.period = new_period\n",
    "    \n",
    "    def get_due(self):\n",
    "        return self.due\n",
    "    \n",
    "    def print_due(self):\n",
    "        return format_time(self.get_due())\n",
    "\n",
    "    def set_due(self, new_due):\n",
    "        self.due = new_due      \n",
    "\n",
    "    def get_name(self, ):\n",
    "        return self.name\n",
    "\n",
    "    def set_name(self, new_name):\n",
    "        self.name = new_name      \n",
    "\n",
    "    def get_comment(self, ):\n",
    "        return self.comment\n",
    "\n",
    "    def set_comment(self, new_comment):\n",
    "        self.comment = new_comment     \n",
    "\n",
    "    def get_category(self, ):\n",
    "        return self.category\n",
    "\n",
    "    def set_category(self, new_category):\n",
    "        self.category = new_category    "
   ]
  },
  {
   "cell_type": "code",
   "execution_count": 56,
   "metadata": {},
   "outputs": [],
   "source": [
    "class TaskList():\n",
    "    def __init__(self, taskList=[]):\n",
    "        self.tasks = taskList\n",
    "        self.count = itertools.count() \n",
    "        self.dict = {task.name:task for task in taskList} # TODO: update self.count as they are added\n",
    "\n",
    "    def get_task(self, name):\n",
    "        return self.dict.get(name)\n",
    "    \n",
    "    def show(self, ):\n",
    "        heap = []\n",
    "        for task in self.tasks:\n",
    "            #print(task.name, task.due, task.print_period())\n",
    "            tilldue = task.due - datetime.datetime.now()\n",
    "            sec = int(tilldue.total_seconds())\n",
    "            #print(tilldue)\n",
    "            heapq.heappush(heap, (sec, task.name))\n",
    "        returnlist = []\n",
    "        heap.sort()\n",
    "        for x in heap:\n",
    "            name = x[1]\n",
    "            due = x[0]\n",
    "            due = format_period(due)\n",
    "            returnlist.append(\"{}\\t\\t{}\".format(name, due))\n",
    "        print(\"\\n\".join(returnlist))\n",
    "    \n",
    "    def add(self, name=\"Untitled-Task-{}\".format(datetime.datetime.today().strftime(TIME_FORMAT)), period=86400, last=datetime.datetime.now()):\n",
    "        newTask = Task(name, period, last)\n",
    "        self.tasks.append(newTask)\n",
    "        self.dict[name] = newTask\n",
    "        #TODO: Add self.count update\n",
    "    \n",
    "    def check(self, name):\n",
    "        task = self.dict.get(name)\n",
    "        if task:\n",
    "            task.check()\n",
    "        else:\n",
    "            print(\"task {} not found.\".format(task))"
   ]
  },
  {
   "cell_type": "code",
   "execution_count": 57,
   "metadata": {
    "tags": []
   },
   "outputs": [
    {
     "output_type": "stream",
     "name": "stdout",
     "text": "Dolores 1296000 2020-10-10 15:00:00  \nJaqen 1296000 2020-10-01 15:00:00  \nElan 864000 2020-09-26 15:00:00  \nDishes 86300 2020-09-26 11:11:03.757324  \nPilates 345600 2020-10-01 11:12:43.463110  \nYoga 345600 2020-10-01 11:00:00  \nPilates 345600 2020-09-28 08:00:00  \nBodyweight 345600 2020-09-29 17:00:00  \nLemon Tree 864000 2020-10-02 11:12:43.759325  \nBackup 7776000 2020-12-26 11:12:43.463110  \nSheets 2592000 2020-10-12 12:00:00  \nAdventure 604800 2020-10-04 11:12:43.463110  \nNails 604800 2020-10-04 11:12:43.463110  \nLaundry 604800 2020-10-03 10:00:00  \n"
    }
   ],
   "source": [
    "dolores=Task(\"Dolores\", ONE_DAY * 15, datetime.datetime(2020,9,25,15))\n",
    "jaqen=Task(\"Jaqen\", ONE_DAY * 15, datetime.datetime(2020,9,16,15))\n",
    "elan=Task(\"Elan\", ONE_DAY * 10, datetime.datetime(2020,9,16,15))\n",
    "dishes=Task(\"Dishes\", ONE_DAY - 100, datetime.datetime.now() - datetime.timedelta(days=2))\n",
    "pilates=Task(\"Pilates\", ONE_DAY * 4)\n",
    "yoga=Task(\"Yoga\", ONE_DAY * 4, datetime.datetime(2020,9,27,11))\n",
    "running=Task(\"Pilates\", ONE_DAY * 4, datetime.datetime(2020,9,24,8))\n",
    "bodyweight=Task(\"Bodyweight\", ONE_DAY * 4, datetime.datetime(2020,9,25,17))\n",
    "zhou=Task(\"Lemon Tree\", ONE_DAY * 10, datetime.datetime.now() - datetime.timedelta(days=5))\n",
    "backup=Task(\"Backup\", ONE_DAY * 90)\n",
    "sheets=Task(\"Sheets\", ONE_DAY * 30, datetime.datetime(2020,9,12,12))\n",
    "adventure=Task(\"Adventure\", ONE_DAY * 7)\n",
    "nails=Task(\"Nails\", ONE_DAY * 7)\n",
    "laundry=Task(\"Laundry\", ONE_DAY * 7, datetime.datetime(2020,9,26,10))\n"
   ]
  },
  {
   "cell_type": "code",
   "execution_count": 58,
   "metadata": {
    "tags": []
   },
   "outputs": [
    {
     "output_type": "stream",
     "name": "stdout",
     "text": "Dolores 15 days 2020-10-10 15:00:00\nJaqen 15 days 2020-10-01 15:00:00\nElan 10 days 2020-09-26 15:00:00\nDishes 23 hours, 58 minutes 2020-09-26 11:11:03.757324\nPilates 4 days 2020-10-01 11:12:43.463110\nYoga 4 days 2020-10-01 11:00:00\nPilates 4 days 2020-09-28 08:00:00\nBodyweight 4 days 2020-09-29 17:00:00\n"
    }
   ],
   "source": [
    "mytasks = [dolores, jaqen, elan, dishes, pilates, yoga, running, bodyweight]\n",
    "for task in mytasks:\n",
    "    print(task.name, task.print_period(), task.due)"
   ]
  },
  {
   "cell_type": "code",
   "execution_count": 59,
   "metadata": {
    "tags": []
   },
   "outputs": [
    {
     "output_type": "stream",
     "name": "stdout",
     "text": "1136835 Dolores\n359235 Jaqen\n-72764 Elan\n-86500 Dishes\n345599 Pilates\n344835 Yoga\n74835 Pilates\n193635 Bodyweight\n"
    },
    {
     "output_type": "execute_result",
     "data": {
      "text/plain": "[(-86500, 'Dishes'),\n (-72764, 'Elan'),\n (74835, 'Pilates'),\n (193635, 'Bodyweight'),\n (345599, 'Pilates'),\n (359235, 'Jaqen'),\n (344835, 'Yoga'),\n (1136835, 'Dolores')]"
     },
     "metadata": {},
     "execution_count": 59
    }
   ],
   "source": [
    "heap = []\n",
    "for task in mytasks:\n",
    "    #print(task.name, task.due, task.print_period())\n",
    "    tilldue = task.due - datetime.datetime.now()\n",
    "    sec = int(tilldue.total_seconds())\n",
    "    print(sec, task.name)\n",
    "    heapq.heappush(heap, (sec, task.name))\n",
    "\n",
    "heap"
   ]
  },
  {
   "cell_type": "code",
   "execution_count": 60,
   "metadata": {},
   "outputs": [],
   "source": [
    "heap.sort()"
   ]
  },
  {
   "cell_type": "code",
   "execution_count": 61,
   "metadata": {},
   "outputs": [],
   "source": [
    "mylist = TaskList(mytasks)"
   ]
  },
  {
   "cell_type": "code",
   "execution_count": 62,
   "metadata": {
    "tags": []
   },
   "outputs": [
    {
     "output_type": "stream",
     "name": "stdout",
     "text": "(-86500, 'Dishes')\n(-72764, 'Elan')\n(74835, 'Pilates')\n(193635, 'Bodyweight')\n(344835, 'Yoga')\n(345599, 'Pilates')\n(359235, 'Jaqen')\n(1136835, 'Dolores')\n"
    }
   ],
   "source": [
    "while heap:\n",
    "    print(heapq.heappop(heap))"
   ]
  },
  {
   "cell_type": "code",
   "execution_count": 63,
   "metadata": {
    "tags": []
   },
   "outputs": [
    {
     "output_type": "stream",
     "name": "stdout",
     "text": "Dishes\t\tOVERDUE\nElan\t\tOVERDUE\nPilates\t\t20 hours, 47 minutes\nBodyweight\t\t2 days, 5 hours\nYoga\t\t3 days, 23 hours\nPilates\t\t3 days, 23 hours\nJaqen\t\t4 days, 3 hours\nDolores\t\t13 days, 3 hours\n"
    }
   ],
   "source": [
    "mylist.show()"
   ]
  },
  {
   "cell_type": "code",
   "execution_count": 64,
   "metadata": {
    "tags": []
   },
   "outputs": [
    {
     "output_type": "stream",
     "name": "stdout",
     "text": "Lemon Tree 864000 2020-10-02 11:12:57.112397  \n"
    }
   ],
   "source": [
    "mylist.add(\"Lemon Tree\", ONE_DAY * 10, datetime.datetime.now() - datetime.timedelta(days=5))"
   ]
  },
  {
   "cell_type": "code",
   "execution_count": 65,
   "metadata": {},
   "outputs": [],
   "source": [
    "mylist.check('Dishes')"
   ]
  },
  {
   "cell_type": "code",
   "execution_count": 66,
   "metadata": {
    "tags": []
   },
   "outputs": [
    {
     "output_type": "stream",
     "name": "stdout",
     "text": "Elan\t\tOVERDUE\nPilates\t\t20 hours, 47 minutes\nDishes\t\t23 hours, 58 minutes\nBodyweight\t\t2 days, 5 hours\nYoga\t\t3 days, 23 hours\nPilates\t\t3 days, 23 hours\nJaqen\t\t4 days, 3 hours\nLemon Tree\t\t4 days, 23 hours\nDolores\t\t13 days, 3 hours\n"
    }
   ],
   "source": [
    "mylist.show()"
   ]
  },
  {
   "cell_type": "code",
   "execution_count": 69,
   "metadata": {},
   "outputs": [
    {
     "output_type": "execute_result",
     "data": {
      "text/plain": "'10 days'"
     },
     "metadata": {},
     "execution_count": 69
    }
   ],
   "source": [
    "elan.print_period()"
   ]
  },
  {
   "cell_type": "code",
   "execution_count": 70,
   "metadata": {},
   "outputs": [
    {
     "output_type": "execute_result",
     "data": {
      "text/plain": "''"
     },
     "metadata": {},
     "execution_count": 70
    }
   ],
   "source": [
    "elan.get_comment()"
   ]
  }
 ],
 "metadata": {
  "kernelspec": {
   "name": "Python 3.8.5 64-bit",
   "display_name": "Python 3.8.5 64-bit",
   "metadata": {
    "interpreter": {
     "hash": "1baa965d5efe3ac65b79dfc60c0d706280b1da80fedb7760faf2759126c4f253"
    }
   }
  }
 },
 "nbformat": 4,
 "nbformat_minor": 2
}