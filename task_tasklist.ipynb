{
 "cells": [
  {
   "cell_type": "code",
   "execution_count": 1,
   "metadata": {},
   "outputs": [],
   "source": [
    "import datetime\n",
    "import heapq\n",
    "import sqlite3"
   ]
  },
  {
   "cell_type": "code",
   "execution_count": 2,
   "metadata": {},
   "outputs": [],
   "source": [
    "TIME_FORMAT=\"%Y-%m-%d-%H%M\"\n",
    "ONE_DAY=86400\n",
    "ONE_HOUR=3600\n",
    "ONE_MINUTE=60\n",
    "DB_PATH='things.db'"
   ]
  },
  {
   "cell_type": "code",
   "execution_count": 3,
   "metadata": {},
   "outputs": [],
   "source": [
    "counter = 0"
   ]
  },
  {
   "cell_type": "code",
   "execution_count": 4,
   "metadata": {},
   "outputs": [],
   "source": [
    "class Task():\n",
    "    def __init__(self, name=\"Untitled-Task-{}\".format(datetime.datetime.today().strftime(TIME_FORMAT)), \n",
    "                period=86400, \n",
    "                history=[datetime.datetime.now()],\n",
    "                comment=\"\",\n",
    "                category=\"\", thingID=None):\n",
    "        self.name = name\n",
    "        self.period = period\n",
    "        self.history=history\n",
    "        self.due =  history[-1] + datetime.timedelta(seconds=period)\n",
    "        self.comment = comment\n",
    "        self.category = category\n",
    "        global counter\n",
    "        add = False\n",
    "        if thingID is None:\n",
    "            add = True\n",
    "            thingID = counter\n",
    "            counter += 1\n",
    "        elif thingID >= counter:\n",
    "            counter = thingID + 1\n",
    "        self.thingID = thingID\n",
    "        print(self.thingID, self.name, self.period, self.due, self.comment, self.category)\n",
    "        if add:\n",
    "            add_new_task_to_DB(self, path=DB_PATH)\n",
    "    \n",
    "    def check(self, time=datetime.datetime.now(), *otherTimes):\n",
    "        if isinstance(time, datetime.datetime):\n",
    "            self.history.append(time)\n",
    "        elif isinstance(time, tuple):\n",
    "            try:\n",
    "                y, m, d = time\n",
    "                time = datetime.datetime(y,m,d)\n",
    "                self.history.append(time)\n",
    "            except:\n",
    "                print(\"Could not parse time of {}\".format(time))\n",
    "        latest = time\n",
    "        if len(otherTimes) > 0:\n",
    "            for timestamp in otherTimes:\n",
    "                if isinstance(timestamp, datetime.datetime):\n",
    "                    self.history.append(timestamp)\n",
    "                    if timestamp > time: \n",
    "                        latest = timestamp\n",
    "                elif isinstance(timestamp, tuple):\n",
    "                    try:\n",
    "                        y, m, d = timestamp\n",
    "                        timestamp = datetime.datetime(y,m,d)\n",
    "                        self.history.append(timestamp)\n",
    "                        if timestamp > time:\n",
    "                            latest = timestamp\n",
    "                    except:\n",
    "                        print(\"Could not parse time of {}\".format(timestamp))\n",
    "        newdue = latest + datetime.timedelta(seconds=self.period)\n",
    "        if newdue > self.due:\n",
    "            self.due = newdue\n",
    "        \n",
    "    \n",
    "    def get_period(self,):\n",
    "        return self.period\n",
    "    \n",
    "    def print_period(self, ):\n",
    "        return format_period(self.get_period())\n",
    "\n",
    "    def set_period(self, new_period):\n",
    "        self.period = new_period\n",
    "    \n",
    "    def get_due(self):\n",
    "        return self.due\n",
    "    \n",
    "    def print_due(self):\n",
    "        return format_time(self.get_due())\n",
    "\n",
    "    def set_due(self, new_due):\n",
    "        self.due = new_due      \n",
    "\n",
    "    def get_last(self):\n",
    "        return self.history[-1]\n",
    "\n",
    "    def print_last(self):\n",
    "        return format_time(self.get_last())\n",
    "\n",
    "    def get_name(self, ):\n",
    "        return self.name\n",
    "\n",
    "    def set_name(self, new_name):\n",
    "        self.name = new_name      \n",
    "\n",
    "    def get_comment(self, ):\n",
    "        return self.comment\n",
    "\n",
    "    def set_comment(self, new_comment):\n",
    "        self.comment = new_comment     \n",
    "\n",
    "    def get_category(self, ):\n",
    "        return self.category\n",
    "\n",
    "    def set_category(self, new_category):\n",
    "        self.category = new_category    \n",
    "\n",
    "    def get_thingID(self, ):\n",
    "        return self.thingID\n",
    "\n",
    "    def set_thingID(self, new_thingID):\n",
    "        self.thingID = new_thingID"
   ]
  },
  {
   "cell_type": "code",
   "execution_count": 5,
   "metadata": {},
   "outputs": [],
   "source": [
    "class TaskList():\n",
    "    def __init__(self, taskList=[]):\n",
    "        self.tasks = taskList\n",
    "        self.dict = {task.thingID:task for task in taskList}\n",
    "\n",
    "    def get_all(self):\n",
    "        return self.tasks\n",
    "\n",
    "    def get_task(self, query):\n",
    "        if isinstance(query, str):\n",
    "            print(\"STRING\", query)\n",
    "            for task in self.tasks:\n",
    "                if task.name.lower().strip() == query.lower().strip():\n",
    "                    return task\n",
    "            print(\"task not found!\")\n",
    "            return None\n",
    "        elif isinstance(query, int):\n",
    "            thistask = self.dict.get(query)\n",
    "            if thistask:\n",
    "                return thistask\n",
    "            else:\n",
    "                print(\"task not found!\")\n",
    "                return None\n",
    "    \n",
    "    def show(self, ):\n",
    "        heap = []\n",
    "        for task in self.tasks:\n",
    "            #print(task.name, task.due, task.print_period())\n",
    "            tilldue = task.due - datetime.datetime.now()\n",
    "            sec = int(tilldue.total_seconds())\n",
    "            #print(tilldue)\n",
    "            heapq.heappush(heap, (sec, task.name))\n",
    "        returnlist = []\n",
    "        heap.sort()\n",
    "        for x in heap:\n",
    "            name = x[1]\n",
    "            due = x[0]\n",
    "            due = format_period(due)\n",
    "            returnlist.append(\"{}\\t\\t{}\".format(name, due))\n",
    "        print(\"\\n\".join(returnlist))\n",
    "    \n",
    "    def add(self, name=\"Untitled-Task-{}\".format(datetime.datetime.today().strftime(TIME_FORMAT)), period=86400, last=datetime.datetime.now()):\n",
    "        newTask = Task(name, period, last)\n",
    "        thingID = newTask.thingID\n",
    "        self.tasks.append(newTask)\n",
    "        self.dict[thingID] = newTask\n",
    "\n",
    "    def check(self, query, time=datetime.datetime.now(), *otherTimes): \n",
    "        task = self.get_task(query)\n",
    "        if task:\n",
    "            if len(otherTimes) > 0:\n",
    "                for timestamp in otherTimes:\n",
    "                    if isinstance(timestamp, datetime.datetime):\n",
    "                        task.check(timestamp)\n",
    "                    elif isinstance(timestamp, tuple):\n",
    "                        try:\n",
    "                            y, m, d = timestamp\n",
    "                            timestamp = datetime.datetime(y,m,d)\n",
    "                            task.check(timestamp)\n",
    "                        except:\n",
    "                            print(\"Could not parse time of {}\".format(timestamp))\n",
    "            if isinstance(time, datetime.datetime):\n",
    "                task.check(time)\n",
    "            elif isinstance(time, tuple):\n",
    "                try:\n",
    "                    y, m, d = time\n",
    "                    time = datetime.datetime(y,m,d)\n",
    "                    task.check(time)\n",
    "                except:\n",
    "                    print(\"Could not parse time of {}\".format(time))\n",
    "        else:\n",
    "            print(\"task {} not found.\".format(task))\n",
    "\n",
    "    def update_to_DB(self):\n",
    "        update_all_to_DB(self.get_all(), DB_PATH)"
   ]
  },
  {
   "cell_type": "code",
   "execution_count": 6,
   "metadata": {},
   "outputs": [],
   "source": [
    "def read_db(path='things.db'):\n",
    "    db = path\n",
    "    conn = sqlite3.connect(db)\n",
    "    c = conn.cursor()\n",
    "    things = c.execute('SELECT * FROM things')\n",
    "    global counter\n",
    "    conn.close()\n",
    "    return things\n",
    "\n",
    "def new_task_list_from_db(path='things.db'):\n",
    "    global counter\n",
    "    db = path\n",
    "    conn = sqlite3.connect(db)\n",
    "    c = conn.cursor()\n",
    "    things = c.execute('SELECT * FROM things')\n",
    "    objectified_things = []\n",
    "    maxID = 0\n",
    "    for thing in things:\n",
    "        #print(thing)\n",
    "        thingID, name, period, history, comment, category = thing\n",
    "        if thingID > maxID:\n",
    "            maxID = thingID\n",
    "        history = sorted(set([datetime.datetime.strptime(x, TIME_FORMAT) for x in history.split(\", \")]))\n",
    "        #print(name, period, history, comment, category)\n",
    "        mytask = Task(name, period, history, comment, category, thingID)\n",
    "        objectified_things.append(mytask)\n",
    "    if maxID > counter:\n",
    "        counter = maxID + 1\n",
    "    newlist = TaskList(objectified_things)\n",
    "    conn.close()\n",
    "    return newlist"
   ]
  },
  {
   "cell_type": "code",
   "execution_count": 7,
   "metadata": {},
   "outputs": [],
   "source": [
    "def update_all_to_DB(things, path='things.db'): \n",
    "    db = path\n",
    "    conn = sqlite3.connect(db)\n",
    "    c = conn.cursor()\n",
    "    mycommand = 'SELECT id FROM things;'\n",
    "    thingIDs = [row[0] for row in c.execute(mycommand)]\n",
    "    for thing in things:\n",
    "        if thing.thingID in thingIDs:\n",
    "            print(thing.name)\n",
    "            mycommand = \"UPDATE things set name = '{}', period = {}, history = '{}', comment = '{}', category = '{}' WHERE id = {};\".format(thing.name, thing.period, \", \".join([x.strftime(TIME_FORMAT) for x in thing.history]), thing.comment, thing.category, thing.thingID)\n",
    "            print(mycommand)\n",
    "            c.execute(mycommand)\n",
    "        else:\n",
    "            print(\"ThingID {} not in DB! Adding...\".format(thing.thingID))\n",
    "            mycommand = \"INSERT INTO things VALUES ({}, '{}', {}, '{}', '{}', '{}');\".format(thing.thingID, thing.name, thing.period, \", \".join([x.strftime(TIME_FORMAT) for x in thing.history]), thing.comment, thing.category)\n",
    "            print(mycommand)\n",
    "            c.execute(mycommand)\n",
    "        conn.commit()\n",
    "    conn.close()\n",
    "\n",
    "def add_new_task_to_DB(thing, path='things.db'): \n",
    "    db = path\n",
    "    conn = sqlite3.connect(db)\n",
    "    c = conn.cursor()\n",
    "    mycommand = \"INSERT INTO things VALUES ({}, '{}', {}, '{}', '{}', '{}');\".format(thing.thingID, thing.name, thing.period, \", \".join([x.strftime(TIME_FORMAT) for x in thing.history]), thing.comment, thing.category)\n",
    "    print(mycommand)\n",
    "    c.execute(mycommand)\n",
    "    conn.commit()\n",
    "    conn.close()"
   ]
  },
  {
   "cell_type": "code",
   "execution_count": 8,
   "metadata": {},
   "outputs": [],
   "source": [
    "def format_time(time):\n",
    "    if isinstance(time, datetime.datetime):\n",
    "        return time.strftime(TIME_FORMAT)\n",
    "    else:\n",
    "        print(\"Please pass a datetime object! I can't work under these conditions!!\")\n",
    "\n",
    "\n",
    "def format_period(period):\n",
    "    def format_plural(n, unit):\n",
    "        if n == 1:\n",
    "            return \"{} {}\".format(n, unit)\n",
    "        else:\n",
    "            return \"{} {}s\".format(n, unit)\n",
    "    return_str = \"\"\n",
    "    if period < 0:\n",
    "        return \"OVERDUE\"\n",
    "    elif period > ONE_DAY:\n",
    "        days = int(period/ONE_DAY)\n",
    "        hours = int((period%ONE_DAY)/ONE_HOUR)\n",
    "        return_str += format_plural(days, \"day\")\n",
    "        if hours > 0:\n",
    "            return_str += \", {}\".format(format_plural(hours, \"hour\"))\n",
    "        return return_str\n",
    "    else:\n",
    "        hours = int(period/ONE_HOUR)\n",
    "        minutes = int((period%ONE_HOUR)/ONE_MINUTE)\n",
    "        return_str += format_plural(hours, \"hour\")\n",
    "        if minutes > 0:\n",
    "            return_str += \", {}\".format(format_plural(minutes, \"minute\"))\n",
    "        return return_str"
   ]
  },
  {
   "cell_type": "code",
   "execution_count": 9,
   "metadata": {
    "tags": []
   },
   "outputs": [
    {
     "output_type": "stream",
     "name": "stdout",
     "text": [
      "0 Dolores 1296000 2020-10-29 18:36:00  \n1 Jaqen 1296000 2020-10-21 17:00:00  \n2 Elan 864000 2020-10-16 17:00:00  \n3 Dishes 86400 2020-10-07 17:38:00  \n4 Pilates 345600 2020-10-14 00:00:00  \n5 Yoga 345600 2020-10-17 00:00:00  \n6 Running 345600 2020-10-15 00:00:00  \n7 Bodyweight 345600 2020-10-08 12:15:00  \n8 Lemon Tree 864000 2020-10-16 12:00:00  \n9 Backup 7776000 2021-01-02 12:07:00  \n10 Sheets 2592000 2020-10-12 12:00:00  \n11 Adventure 604800 2020-10-19 00:00:00  \n12 Nails 604800 2020-10-11 15:00:00  \n13 Laundry 604800 2020-10-11 12:00:00  \n"
     ]
    }
   ],
   "source": [
    "newlist = new_task_list_from_db()"
   ]
  },
  {
   "cell_type": "code",
   "execution_count": 56,
   "metadata": {
    "tags": []
   },
   "outputs": [
    {
     "output_type": "stream",
     "name": "stdout",
     "text": [
      "STRING yoga\n"
     ]
    },
    {
     "output_type": "execute_result",
     "data": {
      "text/plain": [
       "datetime.datetime(2020, 10, 10, 8, 0)"
      ]
     },
     "metadata": {},
     "execution_count": 56
    }
   ],
   "source": [
    "#newlist.get_task('pilates').set_period(ONE_DAY)\n",
    "newlist.get_task('yoga').get_due()"
   ]
  },
  {
   "cell_type": "code",
   "execution_count": 18,
   "metadata": {},
   "outputs": [
    {
     "output_type": "execute_result",
     "data": {
      "text/plain": [
       "datetime.datetime(2020, 10, 21, 17, 0)"
      ]
     },
     "metadata": {},
     "execution_count": 18
    }
   ],
   "source": []
  },
  {
   "cell_type": "code",
   "execution_count": 24,
   "metadata": {},
   "outputs": [
    {
     "output_type": "stream",
     "name": "stdout",
     "text": [
      "STRING lemon tree\n"
     ]
    }
   ],
   "source": [
    "#newlist.check('running', datetime.datetime(2020, 10, 15, 8, 15))\n",
    "newlist.check('lemon tree')\n"
   ]
  },
  {
   "cell_type": "code",
   "execution_count": 21,
   "metadata": {
    "tags": []
   },
   "outputs": [
    {
     "output_type": "stream",
     "name": "stdout",
     "text": [
      "STRING elan\n"
     ]
    }
   ],
   "source": [
    "# newlist.check('dishes', time=datetime.datetime(2020,10,5,22))\n",
    "# newlist.check('yoga', time=datetime.datetime(2020,10,3,8))\n",
    "# newlist.check('yoga', time=datetime.datetime(2020,10,6,8))\n",
    "# newlist.check('running', time=datetime.datetime(2020,10,4,13))\n",
    "# newlist.check('pilates', time=datetime.datetime(2020,10,4,9))\n",
    "# newlist.check('lemon tree', time=datetime.datetime(2020,10,6,12))\n",
    "# newlist.check('laundry', time=datetime.datetime(2020,10,4,12))\n",
    "# newlist.check('nails', time=datetime.datetime(2020,10,4,15))\n",
    "#newlist.check('dolores')\n",
    "#newlist.check('jaqen')\n",
    "newlist.check('elan')\n"
   ]
  },
  {
   "cell_type": "code",
   "execution_count": 22,
   "metadata": {
    "tags": []
   },
   "outputs": [
    {
     "output_type": "stream",
     "name": "stdout",
     "text": [
      "Dishes\t\tOVERDUE\nBodyweight\t\tOVERDUE\nLaundry\t\tOVERDUE\nNails\t\tOVERDUE\nSheets\t\tOVERDUE\nPilates\t\tOVERDUE\nYoga\t\t1 day, 10 hours\nAdventure\t\t3 days, 10 hours\nRunning\t\t3 days, 18 hours\nDolores\t\t6 days, 3 hours\nJaqen\t\t6 days, 3 hours\nLemon Tree\t\t9 days, 3 hours\nElan\t\t9 days, 23 hours\nBackup\t\t78 days, 22 hours\n"
     ]
    }
   ],
   "source": [
    "newlist.show()"
   ]
  },
  {
   "cell_type": "code",
   "execution_count": 75,
   "metadata": {},
   "outputs": [
    {
     "output_type": "stream",
     "name": "stdout",
     "text": [
      "STRING adventure\n"
     ]
    }
   ],
   "source": [
    "newlist.check('adventure', (2020,10,12))"
   ]
  },
  {
   "cell_type": "code",
   "execution_count": 21,
   "metadata": {
    "tags": []
   },
   "outputs": [],
   "source": [
    "# conn = sqlite3.connect('things.db')\n",
    "# c = conn.cursor()\n",
    "\n",
    "# mycommand = 'SELECT * FROM things WHERE id = 10;'\n",
    "# for row in c.execute(mycommand):\n",
    "#     print(row)\n",
    "# conn.close()"
   ]
  },
  {
   "cell_type": "code",
   "execution_count": 10,
   "metadata": {
    "tags": []
   },
   "outputs": [
    {
     "output_type": "stream",
     "name": "stdout",
     "text": "0 Dolores 1296000 2020-10-10 15:00:00  \nINSERT INTO things VALUES (0, 'Dolores', 1296000, '2020-09-25-1500', '', '');\n1 Jaqen 1296000 2020-10-01 15:00:00  \nINSERT INTO things VALUES (1, 'Jaqen', 1296000, '2020-09-16-1500', '', '');\n2 Elan 864000 2020-10-07 15:00:00  \nINSERT INTO things VALUES (2, 'Elan', 864000, '2020-09-27-1500', '', '');\n3 Dishes 86300 2020-10-03 12:05:40.579614  \nINSERT INTO things VALUES (3, 'Dishes', 86300, '2020-10-02-1207', '', '');\n4 Pilates 345600 2020-10-07 10:00:00  \nINSERT INTO things VALUES (4, 'Pilates', 345600, '2020-09-25-1100, 2020-10-03-1000', '', '');\n5 Yoga 345600 2020-10-08 10:00:00  \nINSERT INTO things VALUES (5, 'Yoga', 345600, '2020-09-27-1100, 2020-10-04-1000', '', '');\n6 Running 345600 2020-10-06 07:00:00  \nINSERT INTO things VALUES (6, 'Running', 345600, '2020-09-28-0800, 2020-10-02-0700', '', '');\n7 Bodyweight 345600 2020-09-29 17:00:00  \nINSERT INTO things VALUES (7, 'Bodyweight', 345600, '2020-09-25-1700', '', '');\n8 Lemon Tree 864000 2020-10-11 10:00:00  \nINSERT INTO things VALUES (8, 'Lemon Tree', 864000, '2020-10-01-1000', '', '');\n9 Backup 7776000 2021-01-02 12:07:02.449221  \nINSERT INTO things VALUES (9, 'Backup', 7776000, '2020-10-04-1207', '', '');\n10 Sheets 2592000 2020-10-12 12:00:00  \nINSERT INTO things VALUES (10, 'Sheets', 2592000, '2020-09-12-1200', '', '');\n11 Adventure 604800 2020-10-10 18:00:00  \nINSERT INTO things VALUES (11, 'Adventure', 604800, '2020-09-27-1500, 2020-10-03-1800', '', '');\n12 Nails 604800 2020-10-11 10:00:00  \nINSERT INTO things VALUES (12, 'Nails', 604800, '2020-10-04-1000', '', '');\n13 Laundry 604800 2020-10-08 10:00:00  \nINSERT INTO things VALUES (13, 'Laundry', 604800, '2020-09-26-1000, 2020-10-01-1000', '', '');\n"
    }
   ],
   "source": [
    "# dolores=Task(\"Dolores\", ONE_DAY * 15, [datetime.datetime(2020,9,25,15)])\n",
    "# jaqen=Task(\"Jaqen\", ONE_DAY * 15, [datetime.datetime(2020,9,16,15)])\n",
    "# elan=Task(\"Elan\", ONE_DAY * 10, [datetime.datetime(2020,9,27,15)])\n",
    "# dishes=Task(\"Dishes\", ONE_DAY - 100, [datetime.datetime.now() - datetime.timedelta(days=2)])\n",
    "# pilates=Task(\"Pilates\", ONE_DAY * 4, [datetime.datetime(2020,9,25,11), datetime.datetime(2020,10,3,10)])\n",
    "# yoga=Task(\"Yoga\", ONE_DAY * 4, [datetime.datetime(2020,9,27,11),datetime.datetime(2020,10,4,10)])\n",
    "# running=Task(\"Running\", ONE_DAY * 4, [datetime.datetime(2020,9,28,8), datetime.datetime(2020,10,2,7)])\n",
    "# bodyweight=Task(\"Bodyweight\", ONE_DAY * 4, [datetime.datetime(2020,9,25,17)])\n",
    "# zhou=Task(\"Lemon Tree\", ONE_DAY * 10, [datetime.datetime(2020,10,1,10)])\n",
    "# backup=Task(\"Backup\", ONE_DAY * 90)\n",
    "# sheets=Task(\"Sheets\", ONE_DAY * 30, [datetime.datetime(2020,9,12,12)])\n",
    "# adventure=Task(\"Adventure\", ONE_DAY * 7, [datetime.datetime(2020,9,27,15),datetime.datetime(2020,10,3,18)])\n",
    "# nails=Task(\"Nails\", ONE_DAY * 7, [datetime.datetime(2020,10,4,10)])\n",
    "# laundry=Task(\"Laundry\", ONE_DAY * 7, [datetime.datetime(2020,9,26,10),datetime.datetime(2020,10,1,10)])"
   ]
  },
  {
   "cell_type": "code",
   "execution_count": 11,
   "metadata": {},
   "outputs": [],
   "source": [
    "# def save_db(things, path='things.db'): # TODO: UPDATE instead of INSERT\n",
    "#     db = path\n",
    "#     conn = sqlite3.connect(db)\n",
    "#     c = conn.cursor()\n",
    "#     for thing in things:\n",
    "#         print(thing.name)\n",
    "#         mycommand = \"INSERT INTO things VALUES ({}, '{}', {}, '{}', '{}', '{}')\".format(thing.thingID, thing.name, thing.period, \", \".join([x.strftime(TIME_FORMAT) for x in thing.history]), thing.comment, thing.category)\n",
    "#         print(mycommand)\n",
    "#         c.execute(mycommand)\n",
    "#     conn.commit()\n",
    "#     conn.close()"
   ]
  },
  {
   "cell_type": "code",
   "execution_count": 12,
   "metadata": {
    "tags": []
   },
   "outputs": [
    {
     "output_type": "stream",
     "name": "stdout",
     "text": "Dolores 15 days 2020-10-10 15:00:00\nJaqen 15 days 2020-10-01 15:00:00\nElan 10 days 2020-10-07 15:00:00\nDishes 23 hours, 58 minutes 2020-10-03 12:05:40.579614\nPilates 4 days 2020-10-07 10:00:00\nYoga 4 days 2020-10-08 10:00:00\nRunning 4 days 2020-10-06 07:00:00\nBodyweight 4 days 2020-09-29 17:00:00\nLemon Tree 10 days 2020-10-11 10:00:00\nBackup 90 days 2021-01-02 12:07:02.449221\nSheets 30 days 2020-10-12 12:00:00\nAdventure 7 days 2020-10-10 18:00:00\nNails 7 days 2020-10-11 10:00:00\nLaundry 7 days 2020-10-08 10:00:00\n"
    }
   ],
   "source": [
    "# mytasks = [dolores, jaqen, elan, dishes, pilates, yoga, running, bodyweight, zhou, backup, sheets, adventure, nails, laundry]\n",
    "# for task in mytasks:\n",
    "#     print(task.name, task.print_period(), task.due)"
   ]
  },
  {
   "cell_type": "code",
   "execution_count": 13,
   "metadata": {},
   "outputs": [],
   "source": [
    "mylist = TaskList(mytasks)"
   ]
  },
  {
   "cell_type": "code",
   "execution_count": 17,
   "metadata": {
    "tags": []
   },
   "outputs": [],
   "source": [
    "# save_db(mylist.get_all(), DB_PATH)"
   ]
  },
  {
   "cell_type": "code",
   "execution_count": 18,
   "metadata": {
    "tags": []
   },
   "outputs": [
    {
     "output_type": "stream",
     "name": "stdout",
     "text": "Jaqen\t\tOVERDUE\nDishes\t\t4 hours, 51 minutes\nElan\t\t21 hours, 53 minutes\nPilates\t\t1 day, 15 hours\nBodyweight\t\t1 day, 19 hours\nRunning\t\t1 day, 19 hours\nYoga\t\t3 days, 14 hours\nDolores\t\t3 days, 21 hours\nAdventure\t\t4 days\nLaundry\t\t4 days, 18 hours\nNails\t\t4 days, 21 hours\nSheets\t\t5 days, 18 hours\nLemon Tree\t\t9 days, 18 hours\nBackup\t\t87 days, 19 hours\n"
    }
   ],
   "source": [
    "newlist.show()"
   ]
  },
  {
   "cell_type": "code",
   "execution_count": 25,
   "metadata": {
    "tags": []
   },
   "outputs": [
    {
     "output_type": "stream",
     "name": "stdout",
     "text": [
      "Dolores\n",
      "UPDATE things set name = 'Dolores', period = 1296000, history = '2020-09-25-1500, 2020-10-06-1700', comment = '', category = '' WHERE id = 0;\n",
      "Jaqen\n",
      "UPDATE things set name = 'Jaqen', period = 1296000, history = '2020-09-16-1500, 2020-10-06-1700', comment = '', category = '' WHERE id = 1;\n",
      "Elan\n",
      "UPDATE things set name = 'Elan', period = 864000, history = '2020-09-27-1500, 2020-10-06-1700, 2020-10-15-1343', comment = '', category = '' WHERE id = 2;\n",
      "Dishes\n",
      "UPDATE things set name = 'Dishes', period = 86400, history = '2020-10-02-1207, 2020-10-04-1211, 2020-10-05-2200, 2020-10-06-1738', comment = '', category = '' WHERE id = 3;\n",
      "Pilates\n",
      "UPDATE things set name = 'Pilates', period = 345600, history = '2020-09-25-1100, 2020-10-03-1000, 2020-10-04-0900, 2020-10-10-0000', comment = '', category = '' WHERE id = 4;\n",
      "Yoga\n",
      "UPDATE things set name = 'Yoga', period = 345600, history = '2020-09-27-1100, 2020-10-03-0800, 2020-10-04-1000, 2020-10-06-0800, 2020-10-09-0000, 2020-10-13-0000', comment = '', category = '' WHERE id = 5;\n",
      "Running\n",
      "UPDATE things set name = 'Running', period = 345600, history = '2020-09-28-0800, 2020-10-02-0700, 2020-10-04-1300, 2020-10-07-0000, 2020-10-11-0000, 2020-10-15-0815', comment = '', category = '' WHERE id = 6;\n",
      "Bodyweight\n",
      "UPDATE things set name = 'Bodyweight', period = 345600, history = '2020-09-25-1700, 2020-10-04-1215', comment = '', category = '' WHERE id = 7;\n",
      "Lemon Tree\n",
      "UPDATE things set name = 'Lemon Tree', period = 864000, history = '2020-10-01-1000, 2020-10-06-1200, 2020-10-14-1700, 2020-10-15-1343', comment = '', category = '' WHERE id = 8;\n",
      "Backup\n",
      "UPDATE things set name = 'Backup', period = 7776000, history = '2020-10-04-1207', comment = '', category = '' WHERE id = 9;\n",
      "Sheets\n",
      "UPDATE things set name = 'Sheets', period = 2592000, history = '2020-09-12-1200', comment = '', category = '' WHERE id = 10;\n",
      "Adventure\n",
      "UPDATE things set name = 'Adventure', period = 604800, history = '2020-09-27-1500, 2020-10-03-1800, 2020-10-12-0000', comment = '', category = '' WHERE id = 11;\n",
      "Nails\n",
      "UPDATE things set name = 'Nails', period = 604800, history = '2020-10-04-1000, 2020-10-04-1500', comment = '', category = '' WHERE id = 12;\n",
      "Laundry\n",
      "UPDATE things set name = 'Laundry', period = 604800, history = '2020-09-26-1000, 2020-10-01-1000, 2020-10-04-1200', comment = '', category = '' WHERE id = 13;\n"
     ]
    }
   ],
   "source": [
    "update_all_to_DB(newlist.get_all(), DB_PATH)"
   ]
  }
 ],
 "metadata": {
  "kernelspec": {
   "name": "Python 3.8.5 64-bit",
   "display_name": "Python 3.8.5 64-bit",
   "metadata": {
    "interpreter": {
     "hash": "1baa965d5efe3ac65b79dfc60c0d706280b1da80fedb7760faf2759126c4f253"
    }
   }
  }
 },
 "nbformat": 4,
 "nbformat_minor": 2
}